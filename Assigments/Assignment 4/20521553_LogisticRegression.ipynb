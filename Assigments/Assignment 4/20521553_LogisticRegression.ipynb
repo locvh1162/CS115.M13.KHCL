{
  "nbformat": 4,
  "nbformat_minor": 0,
  "metadata": {
    "colab": {
      "name": "20521553_LogisticRegression.ipynb",
      "provenance": [],
      "collapsed_sections": []
    },
    "kernelspec": {
      "name": "python3",
      "display_name": "Python 3"
    },
    "language_info": {
      "name": "python"
    }
  },
  "cells": [
    {
      "cell_type": "code",
      "metadata": {
        "colab": {
          "base_uri": "https://localhost:8080/"
        },
        "id": "R7qdsJZjYeR6",
        "outputId": "d73a3077-8279-4856-c5af-b17ce631b108"
      },
      "source": [
        "from google.colab import drive\n",
        "drive.mount('/content/gdrive')"
      ],
      "execution_count": null,
      "outputs": [
        {
          "output_type": "stream",
          "name": "stdout",
          "text": [
            "Mounted at /content/gdrive\n"
          ]
        }
      ]
    },
    {
      "cell_type": "code",
      "metadata": {
        "id": "iU3zoI0uYtGj"
      },
      "source": [
        "import os\n",
        "import cv2"
      ],
      "execution_count": null,
      "outputs": []
    },
    {
      "cell_type": "code",
      "metadata": {
        "id": "E_i8l2PDtXYt"
      },
      "source": [
        "def resize(image, SCALE = 0.1):\n",
        "  return cv2.resize(image, (int(image.shape[1] * SCALE), int(image.shape[0] * SCALE)))"
      ],
      "execution_count": null,
      "outputs": []
    },
    {
      "cell_type": "code",
      "metadata": {
        "id": "mbPCMcJ6mX0W"
      },
      "source": [
        "X = []\n",
        "y = []"
      ],
      "execution_count": null,
      "outputs": []
    },
    {
      "cell_type": "code",
      "metadata": {
        "id": "EGxLFz4_y2FJ"
      },
      "source": [
        "# load datasetdataset\n",
        "folio = os.listdir('/content/gdrive/MyDrive/folio')\n",
        "for folder in folio:\n",
        "  fol_path = os.path.join('/content/gdrive/MyDrive/folio', folder)\n",
        "  images = os.listdir(fol_path)\n",
        "  for img in images:\n",
        "    img_path = os.path.join(fol_path, img)\n",
        "    matrix_img = cv2.imread(img_path, 0)\n",
        "    resize_img = resize(matrix_img)\n",
        "    if resize_img is not None:\n",
        "      X.append(resize_img)\n",
        "      y.append(os.path.basename(fol_path))"
      ],
      "execution_count": null,
      "outputs": []
    },
    {
      "cell_type": "code",
      "metadata": {
        "id": "FSN49wB280C2"
      },
      "source": [
        "import numpy as np\n",
        "X = np.array(X)\n",
        "y = np.array(y)"
      ],
      "execution_count": null,
      "outputs": []
    },
    {
      "cell_type": "code",
      "metadata": {
        "colab": {
          "base_uri": "https://localhost:8080/"
        },
        "id": "uIWoc4h9-wX4",
        "outputId": "f308a81c-1eb3-4b5b-c7a0-9bfd2da9fa40"
      },
      "source": [
        "X.shape"
      ],
      "execution_count": null,
      "outputs": [
        {
          "output_type": "execute_result",
          "data": {
            "text/plain": [
              "(199, 412, 232)"
            ]
          },
          "metadata": {},
          "execution_count": 7
        }
      ]
    },
    {
      "cell_type": "code",
      "metadata": {
        "id": "__OgJVBZ_C-C"
      },
      "source": [
        "from sklearn.model_selection import train_test_split\n",
        "X_train, X_test, y_train, y_test = train_test_split(X, y, test_size=0.3, random_state=1)"
      ],
      "execution_count": null,
      "outputs": []
    },
    {
      "cell_type": "code",
      "metadata": {
        "id": "lcZZd3utS6Rr"
      },
      "source": [
        "# method 1: Learning on all pixels\n",
        "def convert_to_1D (image):\n",
        "  return np.reshape(image, image.shape[0] * image.shape[1])"
      ],
      "execution_count": null,
      "outputs": []
    },
    {
      "cell_type": "code",
      "metadata": {
        "id": "Zygqr6gkqGYa"
      },
      "source": [
        "X_train_new = []\n",
        "X_test_new = []\n",
        "\n",
        "for x in X_train:\n",
        "  X_train_new.append(convert_to_1D(x))\n",
        "\n",
        "for x in X_test:\n",
        "  X_test_new.append(convert_to_1D(x))"
      ],
      "execution_count": null,
      "outputs": []
    },
    {
      "cell_type": "code",
      "metadata": {
        "id": "FQFEiqcgDgj2"
      },
      "source": [
        "from sklearn.linear_model import LogisticRegression\n",
        "clf = LogisticRegression(max_iter=10000, random_state=1, n_jobs=2)"
      ],
      "execution_count": null,
      "outputs": []
    },
    {
      "cell_type": "code",
      "metadata": {
        "id": "qm-7pZxaECkq",
        "colab": {
          "base_uri": "https://localhost:8080/"
        },
        "outputId": "20b550ea-56ea-4c8c-9f7e-8f61cd7c846c"
      },
      "source": [
        "clf.fit(X_train_new, y_train)"
      ],
      "execution_count": null,
      "outputs": [
        {
          "output_type": "execute_result",
          "data": {
            "text/plain": [
              "LogisticRegression(max_iter=10000, n_jobs=2, random_state=1)"
            ]
          },
          "metadata": {},
          "execution_count": 12
        }
      ]
    },
    {
      "cell_type": "code",
      "metadata": {
        "id": "KsRhXEwaEI8E"
      },
      "source": [
        "y_pred = clf.predict(X_test_new)"
      ],
      "execution_count": null,
      "outputs": []
    },
    {
      "cell_type": "code",
      "metadata": {
        "id": "cTBqYcvJElS2"
      },
      "source": [
        "from sklearn.metrics import accuracy_score, classification_report"
      ],
      "execution_count": null,
      "outputs": []
    },
    {
      "cell_type": "code",
      "metadata": {
        "colab": {
          "base_uri": "https://localhost:8080/"
        },
        "id": "auoyqoMH0UXc",
        "outputId": "cd2bbdea-51a8-42c0-a3da-54ae1f57f95c"
      },
      "source": [
        "print('Accuracy:', accuracy_score(y_test, y_pred))"
      ],
      "execution_count": null,
      "outputs": [
        {
          "output_type": "stream",
          "name": "stdout",
          "text": [
            "Accuracy: 0.8666666666666667\n"
          ]
        }
      ]
    },
    {
      "cell_type": "code",
      "metadata": {
        "colab": {
          "base_uri": "https://localhost:8080/"
        },
        "id": "3tj03Z2m0dFx",
        "outputId": "cc2fb032-0c76-4cc7-db38-0ffcf0669fb3"
      },
      "source": [
        "print(classification_report(y_test, y_pred))"
      ],
      "execution_count": null,
      "outputs": [
        {
          "output_type": "stream",
          "name": "stdout",
          "text": [
            "                  precision    recall  f1-score   support\n",
            "\n",
            "   ashanti blood       0.67      0.67      0.67         6\n",
            " barbados cherry       1.00      0.89      0.94         9\n",
            "           betel       1.00      0.88      0.93         8\n",
            "   bitter orange       1.00      1.00      1.00         3\n",
            "caricature plant       1.00      1.00      1.00         5\n",
            "coeur demoiselle       1.00      1.00      1.00         7\n",
            "          coffee       0.56      1.00      0.71         5\n",
            "          croton       1.00      1.00      1.00         4\n",
            "       jackfruit       1.00      0.75      0.86         8\n",
            "   mulberry leaf       0.60      0.60      0.60         5\n",
            "\n",
            "        accuracy                           0.87        60\n",
            "       macro avg       0.88      0.88      0.87        60\n",
            "    weighted avg       0.90      0.87      0.87        60\n",
            "\n"
          ]
        }
      ]
    },
    {
      "cell_type": "code",
      "metadata": {
        "id": "4mRrZ6T8ErBe"
      },
      "source": [
        "# method 2: H.O.G\n",
        "from skimage.feature import hog"
      ],
      "execution_count": null,
      "outputs": []
    },
    {
      "cell_type": "code",
      "metadata": {
        "id": "enuanGH1FFfo"
      },
      "source": [
        "def calculate_hog (image):\n",
        "  return hog(image, orientations=9, pixels_per_cell=(16, 16), cells_per_block=(2, 2), block_norm='L2')"
      ],
      "execution_count": null,
      "outputs": []
    },
    {
      "cell_type": "code",
      "metadata": {
        "id": "3sGOTRGnFQNy"
      },
      "source": [
        "X_train_new_ = []\n",
        "X_test_new_ = []\n",
        "\n",
        "for x in X_train:\n",
        "  X_train_new_.append(calculate_hog(x))\n",
        "  \n",
        "for x in X_test:\n",
        "  X_test_new_.append(calculate_hog(x))"
      ],
      "execution_count": null,
      "outputs": []
    },
    {
      "cell_type": "code",
      "metadata": {
        "id": "IUm7dvAqPu2Y"
      },
      "source": [
        "clf_ = LogisticRegression(max_iter=10000, random_state=1, n_jobs=2)"
      ],
      "execution_count": null,
      "outputs": []
    },
    {
      "cell_type": "code",
      "metadata": {
        "colab": {
          "base_uri": "https://localhost:8080/"
        },
        "id": "Mf7dwlTgUrL2",
        "outputId": "3cea2e70-e12d-450a-aa2d-90b26bd14c9f"
      },
      "source": [
        "clf_.fit(X_train_new_, y_train)"
      ],
      "execution_count": null,
      "outputs": [
        {
          "output_type": "execute_result",
          "data": {
            "text/plain": [
              "LogisticRegression(max_iter=10000, n_jobs=2, random_state=1)"
            ]
          },
          "metadata": {},
          "execution_count": 21
        }
      ]
    },
    {
      "cell_type": "code",
      "metadata": {
        "id": "xl8p-kUPVnVM"
      },
      "source": [
        "y_pred_ = clf_.predict(X_test_new_)"
      ],
      "execution_count": null,
      "outputs": []
    },
    {
      "cell_type": "code",
      "metadata": {
        "colab": {
          "base_uri": "https://localhost:8080/"
        },
        "id": "sBPqMd3x2tSj",
        "outputId": "0e9a2e6c-c581-4b52-8ff8-f3430df79854"
      },
      "source": [
        "print('Accuracy:', accuracy_score(y_test, y_pred_))"
      ],
      "execution_count": null,
      "outputs": [
        {
          "output_type": "stream",
          "name": "stdout",
          "text": [
            "Accuracy: 0.9333333333333333\n"
          ]
        }
      ]
    },
    {
      "cell_type": "code",
      "metadata": {
        "colab": {
          "base_uri": "https://localhost:8080/"
        },
        "id": "iytlafk922Nb",
        "outputId": "68d052bf-0656-46ab-c72d-aecf31092730"
      },
      "source": [
        "print(classification_report(y_test, y_pred_))"
      ],
      "execution_count": null,
      "outputs": [
        {
          "output_type": "stream",
          "name": "stdout",
          "text": [
            "                  precision    recall  f1-score   support\n",
            "\n",
            "   ashanti blood       0.83      0.83      0.83         6\n",
            " barbados cherry       1.00      0.78      0.88         9\n",
            "           betel       1.00      0.88      0.93         8\n",
            "   bitter orange       1.00      1.00      1.00         3\n",
            "caricature plant       0.83      1.00      0.91         5\n",
            "coeur demoiselle       1.00      1.00      1.00         7\n",
            "          coffee       0.83      1.00      0.91         5\n",
            "          croton       1.00      1.00      1.00         4\n",
            "       jackfruit       1.00      1.00      1.00         8\n",
            "   mulberry leaf       0.83      1.00      0.91         5\n",
            "\n",
            "        accuracy                           0.93        60\n",
            "       macro avg       0.93      0.95      0.94        60\n",
            "    weighted avg       0.94      0.93      0.93        60\n",
            "\n"
          ]
        }
      ]
    },
    {
      "cell_type": "code",
      "metadata": {
        "id": "jyTJkmXzZSXc"
      },
      "source": [
        ""
      ],
      "execution_count": null,
      "outputs": []
    }
  ]
}